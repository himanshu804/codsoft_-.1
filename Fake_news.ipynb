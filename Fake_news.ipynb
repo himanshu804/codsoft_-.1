{
  "nbformat": 4,
  "nbformat_minor": 0,
  "metadata": {
    "colab": {
      "provenance": [],
      "authorship_tag": "ABX9TyO43zVYV+8XnGGq0deAnmlv",
      "include_colab_link": true
    },
    "kernelspec": {
      "name": "python3",
      "display_name": "Python 3"
    },
    "language_info": {
      "name": "python"
    }
  },
  "cells": [
    {
      "cell_type": "markdown",
      "metadata": {
        "id": "view-in-github",
        "colab_type": "text"
      },
      "source": [
        "<a href=\"https://colab.research.google.com/github/himanshu804/codsoft_taskno.-1/blob/main/Fake_news.ipynb\" target=\"_parent\"><img src=\"https://colab.research.google.com/assets/colab-badge.svg\" alt=\"Open In Colab\"/></a>"
      ]
    },
    {
      "cell_type": "markdown",
      "source": [
        "About the Dataset:     \n",
        "  \n",
        "      1. id: unique id for a news article\n",
        "      2. title: the title of a news article\n",
        "      3. author: author of the news article\n",
        "      4. text: the text of the article; could be incomplete\n",
        "      5. label: a label that marks wther the news article is real or fake\n",
        "             1: fake\n",
        "             0: real\n"
      ],
      "metadata": {
        "id": "7tv7DRc46Zxa"
      }
    },
    {
      "cell_type": "markdown",
      "source": [
        "Importing the Dependencies"
      ],
      "metadata": {
        "id": "K5t4lTsv7RTQ"
      }
    },
    {
      "cell_type": "code",
      "source": [
        "import numpy as np\n",
        "import pandas as pd\n",
        "import re\n",
        "from nltk.corpus import stopwords\n",
        "from nltk.stem.porter import PorterStemmer\n",
        "from sklearn.feature_extraction.text import TfidfVectorizer\n",
        "from sklearn.model_selection import train_test_split\n",
        "from sklearn.linear_model import LogisticRegression\n",
        "from sklearn.metrics import accuracy_score\n"
      ],
      "metadata": {
        "id": "rajqVK0D7VgB"
      },
      "execution_count": null,
      "outputs": []
    },
    {
      "cell_type": "code",
      "source": [
        "import nltk\n",
        "nltk.download('stopwords')\n",
        "\n"
      ],
      "metadata": {
        "colab": {
          "base_uri": "https://localhost:8080/"
        },
        "id": "79Ta5Job8RIr",
        "outputId": "0944eb95-8f0f-46e5-b174-43e019ab72f3"
      },
      "execution_count": null,
      "outputs": [
        {
          "output_type": "stream",
          "name": "stderr",
          "text": [
            "[nltk_data] Downloading package stopwords to /root/nltk_data...\n",
            "[nltk_data]   Package stopwords is already up-to-date!\n"
          ]
        },
        {
          "output_type": "execute_result",
          "data": {
            "text/plain": [
              "True"
            ]
          },
          "metadata": {},
          "execution_count": 200
        }
      ]
    },
    {
      "cell_type": "code",
      "source": [
        "# printing the  stopwords in english\n",
        "print(stopwords.words('english'))"
      ],
      "metadata": {
        "colab": {
          "base_uri": "https://localhost:8080/"
        },
        "id": "f1m3se9Z8YAn",
        "outputId": "e5caaa4f-e713-4f33-dff0-9d5be2842413"
      },
      "execution_count": null,
      "outputs": [
        {
          "output_type": "stream",
          "name": "stdout",
          "text": [
            "['i', 'me', 'my', 'myself', 'we', 'our', 'ours', 'ourselves', 'you', \"you're\", \"you've\", \"you'll\", \"you'd\", 'your', 'yours', 'yourself', 'yourselves', 'he', 'him', 'his', 'himself', 'she', \"she's\", 'her', 'hers', 'herself', 'it', \"it's\", 'its', 'itself', 'they', 'them', 'their', 'theirs', 'themselves', 'what', 'which', 'who', 'whom', 'this', 'that', \"that'll\", 'these', 'those', 'am', 'is', 'are', 'was', 'were', 'be', 'been', 'being', 'have', 'has', 'had', 'having', 'do', 'does', 'did', 'doing', 'a', 'an', 'the', 'and', 'but', 'if', 'or', 'because', 'as', 'until', 'while', 'of', 'at', 'by', 'for', 'with', 'about', 'against', 'between', 'into', 'through', 'during', 'before', 'after', 'above', 'below', 'to', 'from', 'up', 'down', 'in', 'out', 'on', 'off', 'over', 'under', 'again', 'further', 'then', 'once', 'here', 'there', 'when', 'where', 'why', 'how', 'all', 'any', 'both', 'each', 'few', 'more', 'most', 'other', 'some', 'such', 'no', 'nor', 'not', 'only', 'own', 'same', 'so', 'than', 'too', 'very', 's', 't', 'can', 'will', 'just', 'don', \"don't\", 'should', \"should've\", 'now', 'd', 'll', 'm', 'o', 're', 've', 'y', 'ain', 'aren', \"aren't\", 'couldn', \"couldn't\", 'didn', \"didn't\", 'doesn', \"doesn't\", 'hadn', \"hadn't\", 'hasn', \"hasn't\", 'haven', \"haven't\", 'isn', \"isn't\", 'ma', 'mightn', \"mightn't\", 'mustn', \"mustn't\", 'needn', \"needn't\", 'shan', \"shan't\", 'shouldn', \"shouldn't\", 'wasn', \"wasn't\", 'weren', \"weren't\", 'won', \"won't\", 'wouldn', \"wouldn't\"]\n"
          ]
        }
      ]
    },
    {
      "cell_type": "markdown",
      "source": [
        "Data Pre-processing"
      ],
      "metadata": {
        "id": "AtlvMucW801P"
      }
    },
    {
      "cell_type": "code",
      "source": [
        " # fixing some error in Dataset\n",
        "import csv\n",
        "\n",
        "def add_missing_quote(filename):\n",
        "    with open(filename, 'r') as f:\n",
        "        reader = csv.reader(f)\n",
        "        data = [row for row in reader]\n",
        "\n",
        "    # Check the last row and add the missing close quote character if needed\n",
        "    last_row = data[-1]\n",
        "    for i, cell in enumerate(last_row):\n",
        "        if cell.count('\"') % 2 != 0:\n",
        "            last_row[i] = cell + '\"'\n",
        "            break\n",
        "\n",
        "    # Overwrite the file with the corrected data\n",
        "    with open(filename, 'w', newline='') as f:\n",
        "        writer = csv.writer(f)\n",
        "        writer.writerows(data)\n",
        "\n",
        "# Replace '/content/train.csv' with the path to your actual train.csv file\n",
        "add_missing_quote('/content/train.csv')\n"
      ],
      "metadata": {
        "id": "QcK5PZwW8rz3"
      },
      "execution_count": null,
      "outputs": []
    },
    {
      "cell_type": "code",
      "source": [
        "# loading the dataset to a pandas Dataframe\n",
        "dataset = pd.read_csv('/content/train.csv')\n"
      ],
      "metadata": {
        "id": "e6RvB8RVDuMv"
      },
      "execution_count": null,
      "outputs": []
    },
    {
      "cell_type": "code",
      "source": [
        "dataset.shape"
      ],
      "metadata": {
        "id": "ihKGohy8EaMP",
        "colab": {
          "base_uri": "https://localhost:8080/"
        },
        "outputId": "2a678317-0fd8-4d49-b434-18ad7754a0a5"
      },
      "execution_count": null,
      "outputs": [
        {
          "output_type": "execute_result",
          "data": {
            "text/plain": [
              "(3776, 5)"
            ]
          },
          "metadata": {},
          "execution_count": 204
        }
      ]
    },
    {
      "cell_type": "code",
      "source": [
        "import numpy as np\n",
        "\n",
        "def func(value):\n",
        "    value_str = str(value).replace(\"''\", ' ')\n",
        "\n",
        "    # Check if the value is not an empty string or NaN\n",
        "    if value_str.strip() != '' and value_str != 'nan':\n",
        "        value_float = float(value_str)\n",
        "        return int(value_float)\n",
        "    else:\n",
        "        return np.nan  # or handle the case in a way that makes sense for your data\n",
        "\n",
        "dataset['label'] = dataset['label'].apply(func)\n",
        "\n",
        "# Convert the column to integers, handling NaN values\n",
        "dataset['label'] = dataset['label'].astype('Int64')\n"
      ],
      "metadata": {
        "id": "BQq82SX-NoWh"
      },
      "execution_count": null,
      "outputs": []
    },
    {
      "cell_type": "code",
      "source": [
        "dataset.label"
      ],
      "metadata": {
        "id": "pTOzB_N9O7wZ",
        "colab": {
          "base_uri": "https://localhost:8080/"
        },
        "outputId": "6d2555d4-5c27-41e3-cc88-972ac091b071"
      },
      "execution_count": null,
      "outputs": [
        {
          "output_type": "execute_result",
          "data": {
            "text/plain": [
              "0          1\n",
              "1          0\n",
              "2          1\n",
              "3          1\n",
              "4          1\n",
              "        ... \n",
              "3771       0\n",
              "3772       1\n",
              "3773       1\n",
              "3774       1\n",
              "3775    <NA>\n",
              "Name: label, Length: 3776, dtype: Int64"
            ]
          },
          "metadata": {},
          "execution_count": 206
        }
      ]
    },
    {
      "cell_type": "code",
      "source": [
        "# print the first 5 rows of the dataframe\n",
        "dataset.head()\n",
        "\n",
        "dataset.dtypes"
      ],
      "metadata": {
        "id": "1xBnpvglEfKf",
        "colab": {
          "base_uri": "https://localhost:8080/"
        },
        "outputId": "2ae6c367-3f4a-4582-e065-ce5a4e969107"
      },
      "execution_count": null,
      "outputs": [
        {
          "output_type": "execute_result",
          "data": {
            "text/plain": [
              "id         int64\n",
              "title     object\n",
              "author    object\n",
              "text      object\n",
              "label      Int64\n",
              "dtype: object"
            ]
          },
          "metadata": {},
          "execution_count": 207
        }
      ]
    },
    {
      "cell_type": "code",
      "source": [
        "# counting the number of missing values in the dataset\n",
        "dataset.isnull().sum()"
      ],
      "metadata": {
        "id": "Z_ab1dIIExFG",
        "colab": {
          "base_uri": "https://localhost:8080/"
        },
        "outputId": "83bd8a48-9ecf-4880-8c03-05a6b60c0568"
      },
      "execution_count": null,
      "outputs": [
        {
          "output_type": "execute_result",
          "data": {
            "text/plain": [
              "id          0\n",
              "title     100\n",
              "author    389\n",
              "text        9\n",
              "label       1\n",
              "dtype: int64"
            ]
          },
          "metadata": {},
          "execution_count": 208
        }
      ]
    },
    {
      "cell_type": "code",
      "source": [
        "# replacing the null balue with empty string\n",
        "dataset.dropna(inplace=True)\n",
        "\n"
      ],
      "metadata": {
        "id": "F6TNelvnFkF-"
      },
      "execution_count": null,
      "outputs": []
    },
    {
      "cell_type": "code",
      "source": [
        "# merging the author name and news title\n",
        "dataset['content'] = dataset['author']+''+dataset['title']\n",
        "\n",
        "\n",
        "\n"
      ],
      "metadata": {
        "id": "5TOm3ufVGXrW"
      },
      "execution_count": null,
      "outputs": []
    },
    {
      "cell_type": "code",
      "source": [
        "print(dataset['content'])"
      ],
      "metadata": {
        "id": "lFXD3_ggHPYm",
        "colab": {
          "base_uri": "https://localhost:8080/"
        },
        "outputId": "69c1cef0-3b4b-4c50-aa4d-ce15b8665a95"
      },
      "execution_count": null,
      "outputs": [
        {
          "output_type": "stream",
          "name": "stdout",
          "text": [
            "0       Darrell LucusHouse Dem Aide: We Didn’t Even Se...\n",
            "1       Daniel J. FlynnFLYNN: Hillary Clinton, Big Wom...\n",
            "2       Consortiumnews.comWhy the Truth Might Get You ...\n",
            "3       Jessica Purkiss15 Civilians Killed In Single U...\n",
            "4       Howard PortnoyIranian woman jailed for fiction...\n",
            "                              ...                        \n",
            "3770    Lucas Nolan’Deport Fat People’ Posters Appear ...\n",
            "3771    Dan RiehlRep. Jim Jordan: Working with Dems on...\n",
            "3772    Colin TaylorCNBC Just Confirmed Comey Is Abusi...\n",
            "3773    Jenn RyanCan You Get a Stunning and Healthy Sm...\n",
            "3774    Sean Adl-TabatabaiProof of Past Life? Teen Wak...\n",
            "Name: content, Length: 3286, dtype: object\n"
          ]
        }
      ]
    },
    {
      "cell_type": "code",
      "source": [
        "#separating the data & label\n",
        "x = dataset.drop(columns = 'label', axis=1)\n",
        "y = dataset['label']"
      ],
      "metadata": {
        "id": "FUeyXApLHewO"
      },
      "execution_count": null,
      "outputs": []
    },
    {
      "cell_type": "code",
      "source": [
        "print(x)\n",
        "print(y)"
      ],
      "metadata": {
        "id": "D0EGr9kQIL6e",
        "colab": {
          "base_uri": "https://localhost:8080/"
        },
        "outputId": "abbcfba4-2e98-4bbd-8da1-8a4260b87324"
      },
      "execution_count": null,
      "outputs": [
        {
          "output_type": "stream",
          "name": "stdout",
          "text": [
            "        id                                              title  \\\n",
            "0        0  House Dem Aide: We Didn’t Even See Comey’s Let...   \n",
            "1        1  FLYNN: Hillary Clinton, Big Woman on Campus - ...   \n",
            "2        2                  Why the Truth Might Get You Fired   \n",
            "3        3  15 Civilians Killed In Single US Airstrike Hav...   \n",
            "4        4  Iranian woman jailed for fictional unpublished...   \n",
            "...    ...                                                ...   \n",
            "3770  3770  ’Deport Fat People’ Posters Appear At CU Bould...   \n",
            "3771  3771  Rep. Jim Jordan: Working with Dems on Health C...   \n",
            "3772  3772  CNBC Just Confirmed Comey Is Abusing His Power...   \n",
            "3773  3773  Can You Get a Stunning and Healthy Smile with ...   \n",
            "3774  3774  Proof of Past Life? Teen Wakes From Coma Speak...   \n",
            "\n",
            "                  author                                               text  \\\n",
            "0          Darrell Lucus  House Dem Aide: We Didn’t Even See Comey’s Let...   \n",
            "1        Daniel J. Flynn  Ever get the feeling your life circles the rou...   \n",
            "2     Consortiumnews.com  Why the Truth Might Get You Fired October 29, ...   \n",
            "3        Jessica Purkiss  Videos 15 Civilians Killed In Single US Airstr...   \n",
            "4         Howard Portnoy  Print \\nAn Iranian woman has been sentenced to...   \n",
            "...                  ...                                                ...   \n",
            "3770         Lucas Nolan  Posters calling on Donald Trump to “Deport Fat...   \n",
            "3771           Dan Riehl  Rep. Jim Jordan ( ) talked with Breitbart News...   \n",
            "3772        Colin Taylor  Comments \\nA bombshell report from CNBC confir...   \n",
            "3773           Jenn Ryan  Keywords: cavities , coconut oil , Dental heal...   \n",
            "3774  Sean Adl-Tabatabai    Sean Adl-Tabatabai in Sci/Environment // 0 C...   \n",
            "\n",
            "                                                content  \n",
            "0     Darrell LucusHouse Dem Aide: We Didn’t Even Se...  \n",
            "1     Daniel J. FlynnFLYNN: Hillary Clinton, Big Wom...  \n",
            "2     Consortiumnews.comWhy the Truth Might Get You ...  \n",
            "3     Jessica Purkiss15 Civilians Killed In Single U...  \n",
            "4     Howard PortnoyIranian woman jailed for fiction...  \n",
            "...                                                 ...  \n",
            "3770  Lucas Nolan’Deport Fat People’ Posters Appear ...  \n",
            "3771  Dan RiehlRep. Jim Jordan: Working with Dems on...  \n",
            "3772  Colin TaylorCNBC Just Confirmed Comey Is Abusi...  \n",
            "3773  Jenn RyanCan You Get a Stunning and Healthy Sm...  \n",
            "3774  Sean Adl-TabatabaiProof of Past Life? Teen Wak...  \n",
            "\n",
            "[3286 rows x 5 columns]\n",
            "0       1\n",
            "1       0\n",
            "2       1\n",
            "3       1\n",
            "4       1\n",
            "       ..\n",
            "3770    0\n",
            "3771    0\n",
            "3772    1\n",
            "3773    1\n",
            "3774    1\n",
            "Name: label, Length: 3286, dtype: Int64\n"
          ]
        }
      ]
    },
    {
      "cell_type": "markdown",
      "source": [
        "**Stemming**\n",
        "\n",
        "its the process of reducing a word to its root word\n",
        "\n",
        "example:\n",
        "actor, actress , acting ---> act (root word)"
      ],
      "metadata": {
        "id": "ToBv4_xpIp3O"
      }
    },
    {
      "cell_type": "code",
      "source": [
        "port_stem = PorterStemmer()"
      ],
      "metadata": {
        "id": "WFSxJVGxKuqg"
      },
      "execution_count": null,
      "outputs": []
    },
    {
      "cell_type": "code",
      "metadata": {
        "id": "zY-n0dCh0e-y"
      },
      "source": [
        "def stemming(content):\n",
        "    stemmed_content = re.sub('[^a-z A-Z]',' ',content)\n",
        "    stemmed_content = stemmed_content.lower()\n",
        "    stemmed_content = stemmed_content.split()\n",
        "    stemmed_content = [port_stem.stem(word) for word in stemmed_content if not word in stopwords.words('english')]\n",
        "    stemmed_content = ' '.join(stemmed_content)\n",
        "    return stemmed_content"
      ],
      "execution_count": null,
      "outputs": []
    },
    {
      "cell_type": "code",
      "source": [
        "dataset['content'] = dataset['content'].apply(stemming)"
      ],
      "metadata": {
        "id": "lLfF6lbdPwBF"
      },
      "execution_count": null,
      "outputs": []
    },
    {
      "cell_type": "code",
      "source": [
        "print(dataset['content'])"
      ],
      "metadata": {
        "id": "B-P5Brn9QZb1",
        "colab": {
          "base_uri": "https://localhost:8080/"
        },
        "outputId": "6c76b1db-7ce7-47c9-9747-abede1ec3821"
      },
      "execution_count": null,
      "outputs": [
        {
          "output_type": "stream",
          "name": "stdout",
          "text": [
            "0       darrel lucushous dem aid even see comey letter...\n",
            "1       daniel j flynnflynn hillari clinton big woman ...\n",
            "2               consortiumnew comwhi truth might get fire\n",
            "3       jessica purkiss civilian kill singl us airstri...\n",
            "4       howard portnoyiranian woman jail fiction unpub...\n",
            "                              ...                        \n",
            "3770    luca nolan deport fat peopl poster appear cu b...\n",
            "3771    dan riehlrep jim jordan work dem health care w...\n",
            "3772    colin taylorcnbc confirm comey abus power help...\n",
            "3773      jenn ryancan get stun healthi smile coconut oil\n",
            "3774    sean adl tabatabaiproof past life teen wake co...\n",
            "Name: content, Length: 3286, dtype: object\n"
          ]
        }
      ]
    },
    {
      "cell_type": "code",
      "source": [
        "#separating th data and label\n",
        "X = dataset['content'].values\n",
        "Y = dataset['label'].values"
      ],
      "metadata": {
        "id": "tDz_G7fVQ3Vl"
      },
      "execution_count": null,
      "outputs": []
    },
    {
      "cell_type": "code",
      "source": [
        "print(X)"
      ],
      "metadata": {
        "id": "CjcsG4aEpQbJ",
        "colab": {
          "base_uri": "https://localhost:8080/"
        },
        "outputId": "84f3ed6a-0136-4949-b39f-2b2fd0e6a702"
      },
      "execution_count": null,
      "outputs": [
        {
          "output_type": "stream",
          "name": "stdout",
          "text": [
            "['darrel lucushous dem aid even see comey letter jason chaffetz tweet'\n",
            " 'daniel j flynnflynn hillari clinton big woman campu breitbart'\n",
            " 'consortiumnew comwhi truth might get fire' ...\n",
            " 'colin taylorcnbc confirm comey abus power help trump'\n",
            " 'jenn ryancan get stun healthi smile coconut oil'\n",
            " 'sean adl tabatabaiproof past life teen wake coma speak fluent spanish']\n"
          ]
        }
      ]
    },
    {
      "cell_type": "code",
      "source": [
        "print(Y)"
      ],
      "metadata": {
        "id": "RWeOEpuTe0rL",
        "colab": {
          "base_uri": "https://localhost:8080/"
        },
        "outputId": "f431a7c8-3a01-4340-e5a3-a9bb84325490"
      },
      "execution_count": null,
      "outputs": [
        {
          "output_type": "stream",
          "name": "stdout",
          "text": [
            "<IntegerArray>\n",
            "[1, 0, 1, 1, 1, 0, 0, 0, 0, 0,\n",
            " ...\n",
            " 0, 1, 1, 0, 1, 0, 0, 1, 1, 1]\n",
            "Length: 3286, dtype: Int64\n"
          ]
        }
      ]
    },
    {
      "cell_type": "code",
      "source": [
        "Y.shape"
      ],
      "metadata": {
        "id": "r3G6BRPze7aj",
        "colab": {
          "base_uri": "https://localhost:8080/"
        },
        "outputId": "ed441ee7-cd8d-43fa-f173-818a15fcd35f"
      },
      "execution_count": null,
      "outputs": [
        {
          "output_type": "execute_result",
          "data": {
            "text/plain": [
              "(3286,)"
            ]
          },
          "metadata": {},
          "execution_count": 221
        }
      ]
    },
    {
      "cell_type": "code",
      "metadata": {
        "id": "BMfepsQZ6TES"
      },
      "source": [
        "# converting the textual data to numerical data\n",
        "vectorizer = TfidfVectorizer()\n",
        "vectorizer.fit(X)\n",
        "\n",
        "X = vectorizer.transform(X)"
      ],
      "execution_count": null,
      "outputs": []
    },
    {
      "cell_type": "code",
      "source": [
        "print(X)"
      ],
      "metadata": {
        "id": "LUmEeqEuUivE",
        "colab": {
          "base_uri": "https://localhost:8080/"
        },
        "outputId": "d19c258d-aa3e-4504-e60f-50178f61754f"
      },
      "execution_count": null,
      "outputs": [
        {
          "output_type": "stream",
          "name": "stdout",
          "text": [
            "  (0, 8432)\t0.29053434517272697\n",
            "  (0, 7258)\t0.2564119758484349\n",
            "  (0, 4861)\t0.37377956673474605\n",
            "  (0, 4709)\t0.31212648038529567\n",
            "  (0, 4182)\t0.244016670817193\n",
            "  (0, 2621)\t0.23733312517115746\n",
            "  (0, 2037)\t0.2940941086012197\n",
            "  (0, 1936)\t0.3557471949506701\n",
            "  (0, 1603)\t0.2548513490211767\n",
            "  (0, 1345)\t0.37377956673474605\n",
            "  (0, 200)\t0.2812999372105705\n",
            "  (1, 8875)\t0.3760793942932467\n",
            "  (1, 3691)\t0.24800536983924382\n",
            "  (1, 2916)\t0.4969767257199752\n",
            "  (1, 1916)\t0.33012465675962566\n",
            "  (1, 1520)\t0.24506380563784005\n",
            "  (1, 1235)\t0.4652396721012951\n",
            "  (1, 1064)\t0.18153226466565983\n",
            "  (1, 852)\t0.36281026221105117\n",
            "  (2, 8406)\t0.37824986518701337\n",
            "  (2, 5249)\t0.4491063917374364\n",
            "  (2, 3145)\t0.3107169125063554\n",
            "  (2, 2840)\t0.34247848287309907\n",
            "  (2, 1688)\t0.4177053569650337\n",
            "  (2, 1641)\t0.5166393444180944\n",
            "  :\t:\n",
            "  (3283, 6323)\t0.3275648437798642\n",
            "  (3283, 3643)\t0.33400354385503156\n",
            "  (3283, 1664)\t0.3711559769167871\n",
            "  (3283, 1603)\t0.3255711518659902\n",
            "  (3283, 1573)\t0.36694557771746644\n",
            "  (3283, 29)\t0.38606204244443215\n",
            "  (3284, 7940)\t0.332634305008441\n",
            "  (3284, 7567)\t0.37912105632641235\n",
            "  (3284, 7040)\t0.3983382193452169\n",
            "  (3284, 5784)\t0.32205833702390063\n",
            "  (3284, 4196)\t0.3983382193452169\n",
            "  (3284, 3607)\t0.36548626217682895\n",
            "  (3284, 3145)\t0.23956832360034702\n",
            "  (3284, 1549)\t0.36548626217682895\n",
            "  (3285, 8675)\t0.3088184871207444\n",
            "  (3285, 8154)\t0.294942313769578\n",
            "  (3285, 8064)\t0.3466064757025973\n",
            "  (3285, 7673)\t0.2763023689343445\n",
            "  (3285, 7665)\t0.3298850243743791\n",
            "  (3285, 7240)\t0.26084994614247925\n",
            "  (3285, 6001)\t0.26635680391620536\n",
            "  (3285, 4741)\t0.22204362993800322\n",
            "  (3285, 2908)\t0.3466064757025973\n",
            "  (3285, 1589)\t0.3466064757025973\n",
            "  (3285, 91)\t0.2894354559958519\n"
          ]
        }
      ]
    },
    {
      "cell_type": "code",
      "source": [
        "print(Y)"
      ],
      "metadata": {
        "id": "BSHenNPsfpDO",
        "colab": {
          "base_uri": "https://localhost:8080/"
        },
        "outputId": "7607d445-3be3-4d56-ed23-64e0de8a5263"
      },
      "execution_count": null,
      "outputs": [
        {
          "output_type": "stream",
          "name": "stdout",
          "text": [
            "<IntegerArray>\n",
            "[1, 0, 1, 1, 1, 0, 0, 0, 0, 0,\n",
            " ...\n",
            " 0, 1, 1, 0, 1, 0, 0, 1, 1, 1]\n",
            "Length: 3286, dtype: Int64\n"
          ]
        }
      ]
    },
    {
      "cell_type": "markdown",
      "metadata": {
        "id": "mKBRGiSQ7YCZ"
      },
      "source": [
        "Splitting the dataset to training & test data"
      ]
    },
    {
      "cell_type": "code",
      "source": [
        "from sklearn.model_selection import train_test_split\n",
        "X_train, X_test, Y_train, Y_test = train_test_split(X, Y, test_size=0.2, random_state=2)"
      ],
      "metadata": {
        "id": "6SC91RT5UqfV"
      },
      "execution_count": null,
      "outputs": []
    },
    {
      "cell_type": "code",
      "source": [
        "X_train.shape"
      ],
      "metadata": {
        "colab": {
          "base_uri": "https://localhost:8080/"
        },
        "id": "8InEBTZlIdlQ",
        "outputId": "bfc60902-5afc-481b-b2de-a6e53fe8edea"
      },
      "execution_count": null,
      "outputs": [
        {
          "output_type": "execute_result",
          "data": {
            "text/plain": [
              "(2628, 9026)"
            ]
          },
          "metadata": {},
          "execution_count": 226
        }
      ]
    },
    {
      "cell_type": "code",
      "source": [
        "Y_train.shape"
      ],
      "metadata": {
        "colab": {
          "base_uri": "https://localhost:8080/"
        },
        "id": "E7vwyplzIkB6",
        "outputId": "cea10aa7-d206-468c-92e1-6c9050c041ed"
      },
      "execution_count": null,
      "outputs": [
        {
          "output_type": "execute_result",
          "data": {
            "text/plain": [
              "(2628,)"
            ]
          },
          "metadata": {},
          "execution_count": 227
        }
      ]
    },
    {
      "cell_type": "markdown",
      "metadata": {
        "id": "rxDsQvgO8Oln"
      },
      "source": [
        "Training the Model: Logistic Regression"
      ]
    },
    {
      "cell_type": "code",
      "source": [
        "from sklearn.linear_model import LogisticRegression\n",
        "from sklearn.preprocessing import LabelEncoder\n",
        "\n",
        "# Assuming you have X_train and Y_train\n",
        "# Encode categorical labels\n",
        "label_encoder = LabelEncoder()\n",
        "Y_train_encoded = label_encoder.fit_transform(Y_train)\n",
        "\n",
        "# Create a logistic regression model\n",
        "model = LogisticRegression()\n",
        "\n",
        "# Fit the model on the training data\n",
        "model.fit(X_train, Y_train_encoded)\n"
      ],
      "metadata": {
        "id": "32DzGhjCU6ds",
        "colab": {
          "base_uri": "https://localhost:8080/",
          "height": 75
        },
        "outputId": "651087ff-8c31-486e-f835-d0e185ed0da2"
      },
      "execution_count": null,
      "outputs": [
        {
          "output_type": "execute_result",
          "data": {
            "text/plain": [
              "LogisticRegression()"
            ],
            "text/html": [
              "<style>#sk-container-id-4 {color: black;background-color: white;}#sk-container-id-4 pre{padding: 0;}#sk-container-id-4 div.sk-toggleable {background-color: white;}#sk-container-id-4 label.sk-toggleable__label {cursor: pointer;display: block;width: 100%;margin-bottom: 0;padding: 0.3em;box-sizing: border-box;text-align: center;}#sk-container-id-4 label.sk-toggleable__label-arrow:before {content: \"▸\";float: left;margin-right: 0.25em;color: #696969;}#sk-container-id-4 label.sk-toggleable__label-arrow:hover:before {color: black;}#sk-container-id-4 div.sk-estimator:hover label.sk-toggleable__label-arrow:before {color: black;}#sk-container-id-4 div.sk-toggleable__content {max-height: 0;max-width: 0;overflow: hidden;text-align: left;background-color: #f0f8ff;}#sk-container-id-4 div.sk-toggleable__content pre {margin: 0.2em;color: black;border-radius: 0.25em;background-color: #f0f8ff;}#sk-container-id-4 input.sk-toggleable__control:checked~div.sk-toggleable__content {max-height: 200px;max-width: 100%;overflow: auto;}#sk-container-id-4 input.sk-toggleable__control:checked~label.sk-toggleable__label-arrow:before {content: \"▾\";}#sk-container-id-4 div.sk-estimator input.sk-toggleable__control:checked~label.sk-toggleable__label {background-color: #d4ebff;}#sk-container-id-4 div.sk-label input.sk-toggleable__control:checked~label.sk-toggleable__label {background-color: #d4ebff;}#sk-container-id-4 input.sk-hidden--visually {border: 0;clip: rect(1px 1px 1px 1px);clip: rect(1px, 1px, 1px, 1px);height: 1px;margin: -1px;overflow: hidden;padding: 0;position: absolute;width: 1px;}#sk-container-id-4 div.sk-estimator {font-family: monospace;background-color: #f0f8ff;border: 1px dotted black;border-radius: 0.25em;box-sizing: border-box;margin-bottom: 0.5em;}#sk-container-id-4 div.sk-estimator:hover {background-color: #d4ebff;}#sk-container-id-4 div.sk-parallel-item::after {content: \"\";width: 100%;border-bottom: 1px solid gray;flex-grow: 1;}#sk-container-id-4 div.sk-label:hover label.sk-toggleable__label {background-color: #d4ebff;}#sk-container-id-4 div.sk-serial::before {content: \"\";position: absolute;border-left: 1px solid gray;box-sizing: border-box;top: 0;bottom: 0;left: 50%;z-index: 0;}#sk-container-id-4 div.sk-serial {display: flex;flex-direction: column;align-items: center;background-color: white;padding-right: 0.2em;padding-left: 0.2em;position: relative;}#sk-container-id-4 div.sk-item {position: relative;z-index: 1;}#sk-container-id-4 div.sk-parallel {display: flex;align-items: stretch;justify-content: center;background-color: white;position: relative;}#sk-container-id-4 div.sk-item::before, #sk-container-id-4 div.sk-parallel-item::before {content: \"\";position: absolute;border-left: 1px solid gray;box-sizing: border-box;top: 0;bottom: 0;left: 50%;z-index: -1;}#sk-container-id-4 div.sk-parallel-item {display: flex;flex-direction: column;z-index: 1;position: relative;background-color: white;}#sk-container-id-4 div.sk-parallel-item:first-child::after {align-self: flex-end;width: 50%;}#sk-container-id-4 div.sk-parallel-item:last-child::after {align-self: flex-start;width: 50%;}#sk-container-id-4 div.sk-parallel-item:only-child::after {width: 0;}#sk-container-id-4 div.sk-dashed-wrapped {border: 1px dashed gray;margin: 0 0.4em 0.5em 0.4em;box-sizing: border-box;padding-bottom: 0.4em;background-color: white;}#sk-container-id-4 div.sk-label label {font-family: monospace;font-weight: bold;display: inline-block;line-height: 1.2em;}#sk-container-id-4 div.sk-label-container {text-align: center;}#sk-container-id-4 div.sk-container {/* jupyter's `normalize.less` sets `[hidden] { display: none; }` but bootstrap.min.css set `[hidden] { display: none !important; }` so we also need the `!important` here to be able to override the default hidden behavior on the sphinx rendered scikit-learn.org. See: https://github.com/scikit-learn/scikit-learn/issues/21755 */display: inline-block !important;position: relative;}#sk-container-id-4 div.sk-text-repr-fallback {display: none;}</style><div id=\"sk-container-id-4\" class=\"sk-top-container\"><div class=\"sk-text-repr-fallback\"><pre>LogisticRegression()</pre><b>In a Jupyter environment, please rerun this cell to show the HTML representation or trust the notebook. <br />On GitHub, the HTML representation is unable to render, please try loading this page with nbviewer.org.</b></div><div class=\"sk-container\" hidden><div class=\"sk-item\"><div class=\"sk-estimator sk-toggleable\"><input class=\"sk-toggleable__control sk-hidden--visually\" id=\"sk-estimator-id-4\" type=\"checkbox\" checked><label for=\"sk-estimator-id-4\" class=\"sk-toggleable__label sk-toggleable__label-arrow\">LogisticRegression</label><div class=\"sk-toggleable__content\"><pre>LogisticRegression()</pre></div></div></div></div></div>"
            ]
          },
          "metadata": {},
          "execution_count": 228
        }
      ]
    },
    {
      "cell_type": "markdown",
      "source": [
        "Evalution"
      ],
      "metadata": {
        "id": "0cpK_EBCLgei"
      }
    },
    {
      "cell_type": "markdown",
      "source": [
        "accuracy score"
      ],
      "metadata": {
        "id": "LJGM3JwwLl07"
      }
    },
    {
      "cell_type": "code",
      "metadata": {
        "id": "VgwtWZY59PBw",
        "colab": {
          "base_uri": "https://localhost:8080/"
        },
        "outputId": "f4b1dc8c-bb4d-481c-c187-2ba34cf05735"
      },
      "source": [
        "#accuracy score on the train data\n",
        "from sklearn.metrics import accuracy_score\n",
        "\n",
        "# Ensure both Y_train and X_train_prediction are binary labels\n",
        "# (if not, convert them to binary labels)\n",
        "Y_train_binary = (Y_train > 0.5).astype(int)\n",
        "X_train_prediction_binary = (X_train_prediction > 0.5).astype(int)\n",
        "\n",
        "# Check the unique values in Y_train and X_train_prediction\n",
        "print(\"Unique values in Y_train:\", np.unique(Y_train_binary))\n",
        "print(\"Unique values in X_train_prediction:\", np.unique(X_train_prediction_binary))\n",
        "\n",
        "# Calculate accuracy score\n",
        "training_data_accuracy = accuracy_score(Y_train_binary, X_train_prediction_binary)\n"
      ],
      "execution_count": null,
      "outputs": [
        {
          "output_type": "stream",
          "name": "stdout",
          "text": [
            "Unique values in Y_train: [0 1]\n",
            "Unique values in X_train_prediction: [0 1]\n"
          ]
        }
      ]
    },
    {
      "cell_type": "code",
      "source": [
        "print(training_data_accuracy)"
      ],
      "metadata": {
        "colab": {
          "base_uri": "https://localhost:8080/"
        },
        "id": "AjSNUpmVMOFi",
        "outputId": "fb64126d-4176-4f28-a96b-fdf2faa4fa47"
      },
      "execution_count": null,
      "outputs": [
        {
          "output_type": "stream",
          "name": "stdout",
          "text": [
            "0.9794520547945206\n"
          ]
        }
      ]
    },
    {
      "cell_type": "code",
      "metadata": {
        "id": "Kgcn13oO-H6e",
        "colab": {
          "base_uri": "https://localhost:8080/"
        },
        "outputId": "cc0ed4de-813d-4b3d-872f-f887b4b4f826"
      },
      "source": [
        "# accuracy score on the test data\n",
        "from sklearn.metrics import accuracy_score\n",
        "\n",
        "# Ensure both Y_test and X_test_prediction are binary labels\n",
        "# (if not, convert them to binary labels)\n",
        "Y_test_binary = (Y_test > 0.5).astype(int)\n",
        "X_test_prediction_binary = (X_test_prediction > 0.5).astype(int)\n",
        "\n",
        "# Check the unique values in Y_test and X_test_prediction\n",
        "print(\"Unique values in Y_test:\", np.unique(Y_test_binary))\n",
        "print(\"Unique values in X_test_prediction:\", np.unique(X_test_prediction_binary))\n",
        "\n",
        "# Calculate accuracy score\n",
        "test_data_accuracy = accuracy_score(Y_test_binary, X_test_prediction_binary)\n"
      ],
      "execution_count": null,
      "outputs": [
        {
          "output_type": "stream",
          "name": "stdout",
          "text": [
            "Unique values in Y_test: [0 1]\n",
            "Unique values in X_test_prediction: [0 1]\n"
          ]
        }
      ]
    },
    {
      "cell_type": "code",
      "source": [
        "print(test_data_accuracy)"
      ],
      "metadata": {
        "colab": {
          "base_uri": "https://localhost:8080/"
        },
        "id": "1Nz_dG0vP__S",
        "outputId": "8533a26b-b08b-4a42-bdb6-8dd3d9a78529"
      },
      "execution_count": null,
      "outputs": [
        {
          "output_type": "stream",
          "name": "stdout",
          "text": [
            "0.9376899696048632\n"
          ]
        }
      ]
    },
    {
      "cell_type": "markdown",
      "metadata": {
        "id": "Yun4seaE-6tV"
      },
      "source": [
        "Making a Predictive System"
      ]
    },
    {
      "cell_type": "code",
      "metadata": {
        "colab": {
          "base_uri": "https://localhost:8080/"
        },
        "id": "lPjssDL_-zo8",
        "outputId": "d299dcd1-aa8f-445d-b56a-71ebb3b95f1f"
      },
      "source": [
        "X_new = X_test[33]\n",
        "\n",
        "prediction = model.predict(X_new)\n",
        "print(prediction)\n",
        "\n",
        "if (prediction[0]==0):\n",
        "  print('The news is Real')\n",
        "else:\n",
        "  print('The news is Fake')"
      ],
      "execution_count": null,
      "outputs": [
        {
          "output_type": "stream",
          "name": "stdout",
          "text": [
            "[1]\n",
            "The news is Fake\n"
          ]
        }
      ]
    },
    {
      "cell_type": "code",
      "source": [
        "print(Y_test[600])"
      ],
      "metadata": {
        "colab": {
          "base_uri": "https://localhost:8080/"
        },
        "id": "0CMhnU7RQiP9",
        "outputId": "3c8855eb-6fa5-4de3-e90f-6997698c1431"
      },
      "execution_count": null,
      "outputs": [
        {
          "output_type": "stream",
          "name": "stdout",
          "text": [
            "1\n"
          ]
        }
      ]
    },
    {
      "cell_type": "code",
      "source": [],
      "metadata": {
        "id": "KtAKl35EQqm2"
      },
      "execution_count": null,
      "outputs": []
    }
  ]
}